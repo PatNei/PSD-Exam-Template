{
 "cells": [
  {
   "cell_type": "markdown",
   "metadata": {},
   "source": [
    "#### This file functions as our program.fs or as an alternative to fsi"
   ]
  },
  {
   "cell_type": "code",
   "execution_count": 20,
   "metadata": {
    "dotnet_interactive": {
     "language": "fsharp"
    },
    "polyglot_notebook": {
     "kernelName": "fsharp"
    },
    "vscode": {
     "languageId": "polyglot-notebook"
    }
   },
   "outputs": [
    {
     "data": {
      "text/html": [
       "<div><div></div><div></div><div><strong>Installed Packages</strong><ul><li><span>FsLexYacc.Runtime, 11.2.0</span></li></ul></div></div>"
      ]
     },
     "metadata": {},
     "output_type": "display_data"
    }
   ],
   "source": [
    "#r \"nuget: FsLexYacc.Runtime\"\n",
    "#load \"code/syntax/Absyn.fs\"\n",
    "#load \"code/par/FunPar.fs\"\n",
    "#load \"code/lex/FunLex.fs\"\n",
    "#load \"code/misc/HigherFun.fs\"\n",
    "#load \"code/misc/Parse.fs\"\n",
    "#load \"code/misc/ParseAndRun.fs\"\n",
    "\n",
    "open Absyn\n",
    "open ParseAndRun\n",
    "\n",
    "let printo x = printfn \"%A\" x"
   ]
  },
  {
   "cell_type": "markdown",
   "metadata": {},
   "source": [
    "1.1"
   ]
  },
  {
   "cell_type": "markdown",
   "metadata": {},
   "source": [
    "1.1.1"
   ]
  },
  {
   "cell_type": "code",
   "execution_count": 21,
   "metadata": {
    "dotnet_interactive": {
     "language": "fsharp"
    },
    "polyglot_notebook": {
     "kernelName": "fsharp"
    },
    "vscode": {
     "languageId": "polyglot-notebook"
    }
   },
   "outputs": [
    {
     "name": "stdout",
     "output_type": "stream",
     "text": [
      "Let\n",
      "  (\"s1\", Set [CstI 2; CstI 3],\n",
      "   Let\n",
      "     (\"s2\", Set [CstI 1; CstI 4],\n",
      "      Prim\n",
      "        (\"=\", Prim (\"++\", Var \"s1\", Var \"s2\"),\n",
      "         Set [CstI 2; CstI 4; CstI 3; CstI 1])))\n"
     ]
    }
   ],
   "source": [
    "\n",
    "let code = \"\"\"\n",
    "let s1 = {2, 3} in \n",
    "    let s2 = {1,4} in \n",
    "        s1 ++ s2 = {2,4,3,1} \n",
    "    end\n",
    "end\n",
    "\"\"\"\n",
    "\n",
    "printo (fromString code)\n"
   ]
  },
  {
   "cell_type": "markdown",
   "metadata": {},
   "source": [
    "1.1.2"
   ]
  },
  {
   "cell_type": "code",
   "execution_count": 26,
   "metadata": {
    "dotnet_interactive": {
     "language": "fsharp"
    },
    "polyglot_notebook": {
     "kernelName": "fsharp"
    },
    "vscode": {
     "languageId": "polyglot-notebook"
    }
   },
   "outputs": [
    {
     "ename": "Error",
     "evalue": "System.Exception: parse error near line 1, column 10\n\r\n   at Microsoft.FSharp.Core.PrintfModule.PrintFormatToStringThenFail@1448.Invoke(String message)\r\n   at FSI_0047.Parse.fromString(String str)\r\n   at FSI_0048.ParseAndRun.fromString@5-14.Invoke(String str)\r\n   at <StartupCode$FSI_0068>.$FSI_0068.main@()\r\n   at System.RuntimeMethodHandle.InvokeMethod(Object target, Void** arguments, Signature sig, Boolean isConstructor)\r\n   at System.Reflection.MethodBaseInvoker.InvokeWithNoArgs(Object obj, BindingFlags invokeAttr)",
     "output_type": "error",
     "traceback": [
      "System.Exception: parse error near line 1, column 10\n",
      "\r\n",
      "   at Microsoft.FSharp.Core.PrintfModule.PrintFormatToStringThenFail@1448.Invoke(String message)\r\n",
      "   at FSI_0047.Parse.fromString(String str)\r\n",
      "   at FSI_0048.ParseAndRun.fromString@5-14.Invoke(String str)\r\n",
      "   at <StartupCode$FSI_0068>.$FSI_0068.main@()\r\n",
      "   at System.RuntimeMethodHandle.InvokeMethod(Object target, Void** arguments, Signature sig, Boolean isConstructor)\r\n",
      "   at System.Reflection.MethodBaseInvoker.InvokeWithNoArgs(Object obj, BindingFlags invokeAttr)"
     ]
    }
   ],
   "source": [
    "let code = \"let s = {} in s end\"\n",
    "\n",
    "printo (fromString code)\n"
   ]
  },
  {
   "cell_type": "markdown",
   "metadata": {},
   "source": [
    "1.2"
   ]
  },
  {
   "cell_type": "markdown",
   "metadata": {},
   "source": []
  },
  {
   "cell_type": "markdown",
   "metadata": {},
   "source": [
    "1.3"
   ]
  },
  {
   "cell_type": "code",
   "execution_count": 25,
   "metadata": {
    "dotnet_interactive": {
     "language": "fsharp"
    },
    "polyglot_notebook": {
     "kernelName": "fsharp"
    },
    "vscode": {
     "languageId": "polyglot-notebook"
    }
   },
   "outputs": [
    {
     "name": "stdout",
     "output_type": "stream",
     "text": [
      "Int 1\n"
     ]
    }
   ],
   "source": [
    "let code = \"\"\"\n",
    "let s1 = {2, 3} in \n",
    "    let s2 = {1,4} in \n",
    "        s1 ++ s2 = {2,4,3,1} \n",
    "    end\n",
    "end\n",
    "\"\"\"\n",
    "printo (eval (fromString code) [])"
   ]
  },
  {
   "cell_type": "markdown",
   "metadata": {},
   "source": [
    "#### 2\n"
   ]
  }
 ],
 "metadata": {
  "kernelspec": {
   "display_name": "Python 3",
   "language": "python",
   "name": "python3"
  },
  "language_info": {
   "codemirror_mode": {
    "name": "ipython",
    "version": 3
   },
   "file_extension": ".py",
   "mimetype": "text/x-python",
   "name": "python",
   "nbconvert_exporter": "python",
   "pygments_lexer": "ipython3",
   "version": "3.12.1"
  },
  "orig_nbformat": 4,
  "polyglot_notebook": {
   "kernelInfo": {
    "defaultKernelName": "csharp",
    "items": [
     {
      "aliases": [],
      "name": "csharp"
     }
    ]
   }
  }
 },
 "nbformat": 4,
 "nbformat_minor": 2
}
